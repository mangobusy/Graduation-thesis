{
 "cells": [
  {
   "cell_type": "code",
   "execution_count": 1,
   "id": "af8b7f9f",
   "metadata": {},
   "outputs": [],
   "source": [
    "import sys\n",
    "import numpy as np\n",
    "import pandas as pd\n",
    "from sklearn.model_selection import train_test_split\n",
    "from sksurv.ensemble import RandomSurvivalForest\n",
    "from sksurv.metrics import concordance_index_censored\n",
    "from lifelines import CoxPHFitter\n",
    "from sklearn.model_selection import KFold\n",
    "from sklearn.metrics import roc_auc_score, auc, roc_curve\n",
    "from sklearn.model_selection import RandomizedSearchCV"
   ]
  },
  {
   "cell_type": "code",
   "execution_count": 3,
   "id": "691e76b8",
   "metadata": {},
   "outputs": [
    {
     "data": {
      "text/html": [
       "<div>\n",
       "<style scoped>\n",
       "    .dataframe tbody tr th:only-of-type {\n",
       "        vertical-align: middle;\n",
       "    }\n",
       "\n",
       "    .dataframe tbody tr th {\n",
       "        vertical-align: top;\n",
       "    }\n",
       "\n",
       "    .dataframe thead th {\n",
       "        text-align: right;\n",
       "    }\n",
       "</style>\n",
       "<table border=\"1\" class=\"dataframe\">\n",
       "  <thead>\n",
       "    <tr style=\"text-align: right;\">\n",
       "      <th></th>\n",
       "      <th>case id</th>\n",
       "      <th>PROM1</th>\n",
       "      <th>PROM2</th>\n",
       "      <th>age</th>\n",
       "      <th>OS(d)</th>\n",
       "      <th>final_state</th>\n",
       "      <th>stage</th>\n",
       "    </tr>\n",
       "  </thead>\n",
       "  <tbody>\n",
       "    <tr>\n",
       "      <th>0</th>\n",
       "      <td>a2319490-b85d-4219-a1b0-fa1ec432d5c8</td>\n",
       "      <td>1.1163</td>\n",
       "      <td>7.0028</td>\n",
       "      <td>75</td>\n",
       "      <td>2621</td>\n",
       "      <td>1</td>\n",
       "      <td>3</td>\n",
       "    </tr>\n",
       "    <tr>\n",
       "      <th>1</th>\n",
       "      <td>a2319490-b85d-4219-a1b0-fa1ec432d5c8</td>\n",
       "      <td>1.1163</td>\n",
       "      <td>13.9069</td>\n",
       "      <td>75</td>\n",
       "      <td>2621</td>\n",
       "      <td>1</td>\n",
       "      <td>3</td>\n",
       "    </tr>\n",
       "    <tr>\n",
       "      <th>2</th>\n",
       "      <td>a2319490-b85d-4219-a1b0-fa1ec432d5c8</td>\n",
       "      <td>0.8823</td>\n",
       "      <td>7.0028</td>\n",
       "      <td>75</td>\n",
       "      <td>2621</td>\n",
       "      <td>1</td>\n",
       "      <td>3</td>\n",
       "    </tr>\n",
       "    <tr>\n",
       "      <th>3</th>\n",
       "      <td>a2319490-b85d-4219-a1b0-fa1ec432d5c8</td>\n",
       "      <td>0.8823</td>\n",
       "      <td>13.9069</td>\n",
       "      <td>75</td>\n",
       "      <td>2621</td>\n",
       "      <td>1</td>\n",
       "      <td>3</td>\n",
       "    </tr>\n",
       "    <tr>\n",
       "      <th>4</th>\n",
       "      <td>42ebd30b-175e-4ece-a806-e55cb7e40e96</td>\n",
       "      <td>0.7281</td>\n",
       "      <td>82.6072</td>\n",
       "      <td>62</td>\n",
       "      <td>949</td>\n",
       "      <td>1</td>\n",
       "      <td>3</td>\n",
       "    </tr>\n",
       "    <tr>\n",
       "      <th>...</th>\n",
       "      <td>...</td>\n",
       "      <td>...</td>\n",
       "      <td>...</td>\n",
       "      <td>...</td>\n",
       "      <td>...</td>\n",
       "      <td>...</td>\n",
       "      <td>...</td>\n",
       "    </tr>\n",
       "    <tr>\n",
       "      <th>266</th>\n",
       "      <td>c5355491-e1e8-46a4-a05e-bafcaf2e7459</td>\n",
       "      <td>0.7960</td>\n",
       "      <td>14.5609</td>\n",
       "      <td>76</td>\n",
       "      <td>2648</td>\n",
       "      <td>1</td>\n",
       "      <td>3</td>\n",
       "    </tr>\n",
       "    <tr>\n",
       "      <th>267</th>\n",
       "      <td>d1976840-35f7-4423-8458-12fb32a52b33</td>\n",
       "      <td>0.2056</td>\n",
       "      <td>31.0689</td>\n",
       "      <td>73</td>\n",
       "      <td>84</td>\n",
       "      <td>1</td>\n",
       "      <td>4</td>\n",
       "    </tr>\n",
       "    <tr>\n",
       "      <th>268</th>\n",
       "      <td>d8d13aa4-45d5-4e1a-a6cf-895bdf05e7b2</td>\n",
       "      <td>0.1940</td>\n",
       "      <td>15.0706</td>\n",
       "      <td>63</td>\n",
       "      <td>351</td>\n",
       "      <td>1</td>\n",
       "      <td>4</td>\n",
       "    </tr>\n",
       "    <tr>\n",
       "      <th>269</th>\n",
       "      <td>d77ef9cf-f8e6-4ee9-8d4f-1106885f6b06</td>\n",
       "      <td>1.9786</td>\n",
       "      <td>33.7066</td>\n",
       "      <td>67</td>\n",
       "      <td>787</td>\n",
       "      <td>1</td>\n",
       "      <td>3</td>\n",
       "    </tr>\n",
       "    <tr>\n",
       "      <th>270</th>\n",
       "      <td>f7752d6e-f9cd-4dc9-ab01-3ab87acb21e4</td>\n",
       "      <td>0.2463</td>\n",
       "      <td>7.3370</td>\n",
       "      <td>44</td>\n",
       "      <td>1483</td>\n",
       "      <td>1</td>\n",
       "      <td>3</td>\n",
       "    </tr>\n",
       "  </tbody>\n",
       "</table>\n",
       "<p>271 rows × 7 columns</p>\n",
       "</div>"
      ],
      "text/plain": [
       "                                  case id   PROM1    PROM2  age  OS(d)  \\\n",
       "0    a2319490-b85d-4219-a1b0-fa1ec432d5c8  1.1163   7.0028   75   2621   \n",
       "1    a2319490-b85d-4219-a1b0-fa1ec432d5c8  1.1163  13.9069   75   2621   \n",
       "2    a2319490-b85d-4219-a1b0-fa1ec432d5c8  0.8823   7.0028   75   2621   \n",
       "3    a2319490-b85d-4219-a1b0-fa1ec432d5c8  0.8823  13.9069   75   2621   \n",
       "4    42ebd30b-175e-4ece-a806-e55cb7e40e96  0.7281  82.6072   62    949   \n",
       "..                                    ...     ...      ...  ...    ...   \n",
       "266  c5355491-e1e8-46a4-a05e-bafcaf2e7459  0.7960  14.5609   76   2648   \n",
       "267  d1976840-35f7-4423-8458-12fb32a52b33  0.2056  31.0689   73     84   \n",
       "268  d8d13aa4-45d5-4e1a-a6cf-895bdf05e7b2  0.1940  15.0706   63    351   \n",
       "269  d77ef9cf-f8e6-4ee9-8d4f-1106885f6b06  1.9786  33.7066   67    787   \n",
       "270  f7752d6e-f9cd-4dc9-ab01-3ab87acb21e4  0.2463   7.3370   44   1483   \n",
       "\n",
       "     final_state  stage  \n",
       "0              1      3  \n",
       "1              1      3  \n",
       "2              1      3  \n",
       "3              1      3  \n",
       "4              1      3  \n",
       "..           ...    ...  \n",
       "266            1      3  \n",
       "267            1      4  \n",
       "268            1      4  \n",
       "269            1      3  \n",
       "270            1      3  \n",
       "\n",
       "[271 rows x 7 columns]"
      ]
     },
     "execution_count": 3,
     "metadata": {},
     "output_type": "execute_result"
    }
   ],
   "source": [
    "dataset_name = 'TCGA-OV'\n",
    "data = pd.read_csv(\"../data/OV/\"+dataset_name+\"/\"+dataset_name+\"_data.csv\")\n",
    "data"
   ]
  },
  {
   "cell_type": "code",
   "execution_count": 4,
   "id": "edc7002f",
   "metadata": {},
   "outputs": [],
   "source": [
    "# Convert the dataset to the structured array format required for sksurv models\n",
    "data['event_bool'] = data['final_state'].astype(bool)\n",
    "survival_data = np.array([(row['event_bool'], row['OS(d)']) for _, row in data.iterrows()],\n",
    "                         dtype=[('event', 'bool'), ('OS(d)', 'float')])\n",
    "\n",
    "# Features (X) and target (y)\n",
    "X1 = data[['stage','age']] # clinical data\n",
    "X2 = data[['PROM1', 'PROM2', 'stage', 'grade']] # all data"
   ]
  },
  {
   "cell_type": "code",
   "execution_count": 5,
   "id": "5132caa4",
   "metadata": {},
   "outputs": [
    {
     "data": {
      "text/plain": [
       "array([[-0.47995715, -0.8040769 , -0.31806124,  1.26230518],\n",
       "       [-0.47995715, -0.6797841 , -0.31806124,  1.26230518],\n",
       "       [-0.49649209, -0.8040769 , -0.31806124,  1.26230518],\n",
       "       ...,\n",
       "       [-0.54512885, -0.65883429,  1.95021762,  0.17488361],\n",
       "       [-0.41902518, -0.32333501, -0.31806124,  0.53735747],\n",
       "       [-0.54143322, -0.79806038, -0.31806124, -1.54686723]])"
      ]
     },
     "execution_count": 5,
     "metadata": {},
     "output_type": "execute_result"
    }
   ],
   "source": [
    "X2"
   ]
  },
  {
   "cell_type": "code",
   "execution_count": 7,
   "id": "6d343185",
   "metadata": {},
   "outputs": [],
   "source": [
    "# RSF with cross validation\n",
    "def RSF_cv(X,y):\n",
    "    kf = KFold(n_splits=5, shuffle=True, random_state=42)\n",
    "    # Variables to store results\n",
    "    train_cindexes = []\n",
    "    test_cindexes = []\n",
    "    aucs = []\n",
    "    \n",
    "    param_distributions = {\n",
    "    'n_estimators': [2,3,4,5,6,7,8,9,10,12,15,18,20,25,30,35,40,45,50,55],\n",
    "    'max_depth': [2,3,4,5,6,7,8,9,10,12,15,18,20, None],\n",
    "    'min_samples_split': [2,3,4,5,6,7,8,9,10,11,12],\n",
    "    'min_samples_leaf': [1,2,3,4,5,6,7,8,9,10]\n",
    "    }\n",
    "    \n",
    "    for fold, (train_index, test_index) in enumerate(kf.split(X), 1):\n",
    "        X_train, X_test = X[train_index], X[test_index]\n",
    "        y_train, y_test = y[train_index], y[test_index]\n",
    "        \n",
    "        rsf = RandomSurvivalForest(random_state=42)\n",
    "        random_search = RandomizedSearchCV(estimator=rsf, param_distributions=param_distributions, n_iter=10, cv=5, random_state=42, n_jobs=-1)\n",
    "        random_search.fit(X_train, y_train)\n",
    "        best_rsf = random_search.best_estimator_\n",
    "        \n",
    "        # Evaluate on train and test data\n",
    "        cindex_train = concordance_index_censored(y_train['event'], y_train['OS(d)'], best_rsf.predict(X_train))[0]\n",
    "        cindex_test = concordance_index_censored(y_test['event'], y_test['OS(d)'], best_rsf.predict(X_test))[0]\n",
    "\n",
    "        train_cindexes.append(cindex_train)\n",
    "        test_cindexes.append(cindex_test)\n",
    "\n",
    "        # Calculate AUC (using survival probabilities and actual events)\n",
    "        # Predict survival probabilities for the test set\n",
    "        y_pred = best_rsf.predict(X_test)\n",
    "\n",
    "        # Compute AUC score, assuming a binary event outcome\n",
    "        try:\n",
    "            auc_score = roc_auc_score(y_test['event'], y_pred)\n",
    "        except ValueError:  # If AUC cannot be calculated, skip this fold\n",
    "            auc_score = np.nan\n",
    "        aucs.append(auc_score)\n",
    "    #     print(f\"Fold {fold} - C-index (Train): {cindex_train:.4f}, C-index (Test): {cindex_test:.4f}, AUC: {auc_score:.4f}\")\n",
    "\n",
    "    # Calculate average C-index and AUC across all folds\n",
    "    avg_train_cindex = np.mean(train_cindexes)\n",
    "    avg_test_cindex = np.mean(test_cindexes)\n",
    "    avg_auc = np.nanmean(aucs)  # Using nanmean to handle potential NaN values\n",
    "\n",
    "    print(f\"Average C-index (Train): {avg_train_cindex:.4f}\")\n",
    "    print(f\"Average C-index (Test): {avg_test_cindex:.4f}\")\n",
    "    print(f\"Average AUC: {avg_auc:.4f}\")"
   ]
  },
  {
   "cell_type": "code",
   "execution_count": 8,
   "id": "776b4437",
   "metadata": {},
   "outputs": [],
   "source": [
    "# RSF without cross validation\n",
    "def RSF(X,y):    \n",
    "    param_distributions = {\n",
    "    'n_estimators': [2,3,4,5,6,7,8,9,10,12,15,18,20,25,30,35,40,45,50,55],\n",
    "    'max_depth': [2,3,4,5,6,7,8,9,10,12,15,18,20, None],\n",
    "    'min_samples_split': [2,3,4,5,6,7,8,9,10,11,12],\n",
    "    'min_samples_leaf': [1,2,3,4,5,6,7,8,9,10]\n",
    "    }\n",
    "   \n",
    "    X_train, X_test, y_train, y_test = train_test_split(X, y, test_size=0.2, random_state=42)\n",
    "    rsf = RandomSurvivalForest(random_state=42)\n",
    "    random_search = RandomizedSearchCV(estimator=rsf, param_distributions=param_distributions, n_iter=10, random_state=42, n_jobs=-1)\n",
    "    random_search.fit(X_train, y_train)\n",
    "    best_rsf = random_search.best_estimator_\n",
    "\n",
    "    # Evaluate on train and test data\n",
    "    cindex_train = concordance_index_censored(y_train['event'], y_train['OS(d)'], best_rsf.predict(X_train))[0]\n",
    "    cindex_test = concordance_index_censored(y_test['event'], y_test['OS(d)'], best_rsf.predict(X_test))[0]\n",
    "\n",
    "    # Calculate AUC (using survival probabilities and actual events)\n",
    "    # Predict survival probabilities for the test set\n",
    "    y_pred = best_rsf.predict(X_test)\n",
    "\n",
    "    # Compute AUC score, assuming a binary event outcome\n",
    "    try:\n",
    "        auc_score = roc_auc_score(y_test['event'], y_pred)\n",
    "    except ValueError:  # If AUC cannot be calculated, skip this fold\n",
    "        auc_score = np.nan\n",
    "#     print(f\"Fold {fold} - C-index (Train): {cindex_train:.4f}, C-index (Test): {cindex_test:.4f}, AUC: {auc_score:.4f}\")\n",
    "\n",
    "    print(f\"C-index (Train): {cindex_train:.4f}\")\n",
    "    print(f\"C-index (Test): {cindex_test:.4f}\")\n",
    "    print(f\"AUC: {auc_score:.4f}\")"
   ]
  },
  {
   "cell_type": "code",
   "execution_count": 9,
   "id": "62b75b46",
   "metadata": {
    "scrolled": true
   },
   "outputs": [
    {
     "name": "stdout",
     "output_type": "stream",
     "text": [
      "Average C-index (Train): 0.6547\n",
      "Average C-index (Test): 0.5500\n",
      "Average AUC: nan\n"
     ]
    },
    {
     "name": "stderr",
     "output_type": "stream",
     "text": [
      "C:\\Users\\26620\\AppData\\Local\\Temp\\ipykernel_49780\\1705079222.py:52: RuntimeWarning: Mean of empty slice\n",
      "  avg_auc = np.nanmean(aucs)  # Using nanmean to handle potential NaN values\n"
     ]
    }
   ],
   "source": [
    "RSF_cv(X1,y)"
   ]
  },
  {
   "cell_type": "code",
   "execution_count": 10,
   "id": "ad6255fb",
   "metadata": {},
   "outputs": [
    {
     "name": "stdout",
     "output_type": "stream",
     "text": [
      "Average C-index (Train): 0.7260\n",
      "Average C-index (Test): 0.5211\n",
      "Average AUC: nan\n"
     ]
    },
    {
     "name": "stderr",
     "output_type": "stream",
     "text": [
      "C:\\Users\\26620\\AppData\\Local\\Temp\\ipykernel_49780\\1705079222.py:52: RuntimeWarning: Mean of empty slice\n",
      "  avg_auc = np.nanmean(aucs)  # Using nanmean to handle potential NaN values\n"
     ]
    }
   ],
   "source": [
    "RSF_cv(X2,y)"
   ]
  },
  {
   "cell_type": "code",
   "execution_count": 11,
   "id": "21872b18",
   "metadata": {},
   "outputs": [
    {
     "name": "stdout",
     "output_type": "stream",
     "text": [
      "C-index (Train): 0.7016\n",
      "C-index (Test): 0.5330\n",
      "AUC: nan\n"
     ]
    }
   ],
   "source": [
    "RSF(X1,y)"
   ]
  },
  {
   "cell_type": "code",
   "execution_count": 12,
   "id": "ed38697a",
   "metadata": {},
   "outputs": [
    {
     "name": "stdout",
     "output_type": "stream",
     "text": [
      "C-index (Train): 0.7208\n",
      "C-index (Test): 0.4794\n",
      "AUC: nan\n"
     ]
    }
   ],
   "source": [
    "RSF(X2,y)"
   ]
  },
  {
   "cell_type": "code",
   "execution_count": null,
   "id": "2ab634c4",
   "metadata": {},
   "outputs": [],
   "source": []
  }
 ],
 "metadata": {
  "kernelspec": {
   "display_name": "tensorflow",
   "language": "python",
   "name": "tensorflow"
  },
  "language_info": {
   "codemirror_mode": {
    "name": "ipython",
    "version": 3
   },
   "file_extension": ".py",
   "mimetype": "text/x-python",
   "name": "python",
   "nbconvert_exporter": "python",
   "pygments_lexer": "ipython3",
   "version": "3.9.17"
  }
 },
 "nbformat": 4,
 "nbformat_minor": 5
}
